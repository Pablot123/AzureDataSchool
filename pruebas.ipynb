{
 "cells": [
  {
   "cell_type": "code",
   "execution_count": 2,
   "metadata": {},
   "outputs": [],
   "source": [
    "#Importing libraries\n",
    "import azureml.core\n",
    "from azureml.core import Workspace, Dataset\n",
    "from azureml.core import Experiment\n",
    "#from azureml.widgets import RunDetails\n",
    "#from azureml.core import Run\n",
    "#from azureml.core import Experiment, ScriptRunConfig, Environment\n",
    "#from azureml.core.runconfig import DockerConfiguration\n",
    "#from azureml.widgets import RunDetails\n",
    "import mlflow\n",
    "\n",
    "import matplotlib.pyplot as plt\n",
    "import seaborn as sns\n"
   ]
  },
  {
   "cell_type": "code",
   "execution_count": 3,
   "metadata": {},
   "outputs": [],
   "source": [
    "#Creating the workspace\n",
    "ws = Workspace.from_config()\n",
    "\n",
    "#Linkg workspace with mlflow\n",
    "mlflow.set_tracking_uri(ws.get_mlflow_tracking_uri())\n"
   ]
  },
  {
   "cell_type": "code",
   "execution_count": 6,
   "metadata": {},
   "outputs": [
    {
     "name": "stderr",
     "output_type": "stream",
     "text": [
      "Failed to extract subscription information, Exception=AttributeError; 'Logger' object has no attribute 'activity_info'\n",
      "2023-03-09 21:46:05.700183 | ActivityCompleted: Activity=_dataflow, HowEnded=Failure, Duration=2.0 [ms], Info = {'activity_id': 'cd447476-421a-4be3-acbe-48b1aabdbe4e', 'activity_name': '_dataflow', 'activity_type': 'InternalCall', 'app_name': 'dataset', 'source': 'azureml.dataset', 'version': '1.49.0', 'dataprepVersion': '', 'sparkVersion': '', 'subscription': '', 'run_id': '', 'resource_group': '', 'workspace_name': '', 'experiment_id': '', 'location': '', 'completionStatus': 'Success', 'durationMs': 1759.2}, Exception=ImportError; Missing required package \"azureml-dataset-runtime\", which can be installed by running: \"c:\\Users\\pablo.tamayo\\Anaconda3\\envs\\myenv\\python.exe\" -m pip install azureml-dataset-runtime --upgrade\n",
      "Failed to extract subscription information, Exception=AttributeError; 'Logger' object has no attribute 'activity_info'\n",
      "2023-03-09 21:46:05.700183 | ActivityCompleted: Activity=to_pandas_dataframe, HowEnded=Failure, Duration=4.0 [ms], Info = {'activity_id': 'd3eed60c-529a-4bed-b988-aaeaa39511f6', 'activity_name': 'to_pandas_dataframe', 'activity_type': 'PublicApi', 'app_name': 'TabularDataset', 'source': 'azureml.dataset', 'version': '1.49.0', 'dataprepVersion': '', 'sparkVersion': '', 'subscription': '', 'run_id': '', 'resource_group': '', 'workspace_name': '', 'experiment_id': '', 'location': '', 'completionStatus': 'Success', 'durationMs': 1759.2}, Exception=ImportError; Missing required package \"azureml-dataset-runtime\", which can be installed by running: \"c:\\Users\\pablo.tamayo\\Anaconda3\\envs\\myenv\\python.exe\" -m pip install azureml-dataset-runtime --upgrade\n"
     ]
    },
    {
     "ename": "ImportError",
     "evalue": "Missing required package \"azureml-dataset-runtime\", which can be installed by running: \"c:\\Users\\pablo.tamayo\\Anaconda3\\envs\\myenv\\python.exe\" -m pip install azureml-dataset-runtime --upgrade",
     "output_type": "error",
     "traceback": [
      "\u001b[1;31m---------------------------------------------------------------------------\u001b[0m",
      "\u001b[1;31mImportError\u001b[0m                               Traceback (most recent call last)",
      "Cell \u001b[1;32mIn[6], line 2\u001b[0m\n\u001b[0;32m      1\u001b[0m dataset \u001b[39m=\u001b[39m Dataset\u001b[39m.\u001b[39mget_by_name(ws, name\u001b[39m=\u001b[39m\u001b[39m'\u001b[39m\u001b[39mAirlinesDelay\u001b[39m\u001b[39m'\u001b[39m)\n\u001b[1;32m----> 2\u001b[0m df \u001b[39m=\u001b[39m dataset\u001b[39m.\u001b[39;49mto_pandas_dataframe()\n",
      "File \u001b[1;32mc:\\Users\\pablo.tamayo\\Anaconda3\\envs\\myenv\\lib\\site-packages\\azureml\\data\\_loggerfactory.py:132\u001b[0m, in \u001b[0;36mtrack.<locals>.monitor.<locals>.wrapper\u001b[1;34m(*args, **kwargs)\u001b[0m\n\u001b[0;32m    130\u001b[0m \u001b[39mwith\u001b[39;00m _LoggerFactory\u001b[39m.\u001b[39mtrack_activity(logger, func\u001b[39m.\u001b[39m\u001b[39m__name__\u001b[39m, activity_type, custom_dimensions) \u001b[39mas\u001b[39;00m al:\n\u001b[0;32m    131\u001b[0m     \u001b[39mtry\u001b[39;00m:\n\u001b[1;32m--> 132\u001b[0m         \u001b[39mreturn\u001b[39;00m func(\u001b[39m*\u001b[39;49margs, \u001b[39m*\u001b[39;49m\u001b[39m*\u001b[39;49mkwargs)\n\u001b[0;32m    133\u001b[0m     \u001b[39mexcept\u001b[39;00m \u001b[39mException\u001b[39;00m \u001b[39mas\u001b[39;00m e:\n\u001b[0;32m    134\u001b[0m         \u001b[39mif\u001b[39;00m \u001b[39mhasattr\u001b[39m(al, \u001b[39m'\u001b[39m\u001b[39mactivity_info\u001b[39m\u001b[39m'\u001b[39m) \u001b[39mand\u001b[39;00m \u001b[39mhasattr\u001b[39m(e, \u001b[39m'\u001b[39m\u001b[39merror_code\u001b[39m\u001b[39m'\u001b[39m):\n",
      "File \u001b[1;32mc:\\Users\\pablo.tamayo\\Anaconda3\\envs\\myenv\\lib\\site-packages\\azureml\\data\\tabular_dataset.py:168\u001b[0m, in \u001b[0;36mTabularDataset.to_pandas_dataframe\u001b[1;34m(self, on_error, out_of_range_datetime)\u001b[0m\n\u001b[0;32m    156\u001b[0m \u001b[39m@track\u001b[39m(_get_logger, custom_dimensions\u001b[39m=\u001b[39m{\u001b[39m'\u001b[39m\u001b[39mapp_name\u001b[39m\u001b[39m'\u001b[39m: \u001b[39m'\u001b[39m\u001b[39mTabularDataset\u001b[39m\u001b[39m'\u001b[39m}, activity_type\u001b[39m=\u001b[39m_PUBLIC_API)\n\u001b[0;32m    157\u001b[0m \u001b[39mdef\u001b[39;00m \u001b[39mto_pandas_dataframe\u001b[39m(\u001b[39mself\u001b[39m, on_error\u001b[39m=\u001b[39m\u001b[39m'\u001b[39m\u001b[39mnull\u001b[39m\u001b[39m'\u001b[39m, out_of_range_datetime\u001b[39m=\u001b[39m\u001b[39m'\u001b[39m\u001b[39mnull\u001b[39m\u001b[39m'\u001b[39m):\n\u001b[0;32m    158\u001b[0m \u001b[39m    \u001b[39m\u001b[39m\"\"\"Load all records from the dataset into a pandas DataFrame.\u001b[39;00m\n\u001b[0;32m    159\u001b[0m \n\u001b[0;32m    160\u001b[0m \u001b[39m    :param on_error: How to handle any error values in the dataset, such as those produced by an error while\u001b[39;00m\n\u001b[1;32m   (...)\u001b[0m\n\u001b[0;32m    166\u001b[0m \u001b[39m    :rtype: pandas.DataFrame\u001b[39;00m\n\u001b[0;32m    167\u001b[0m \u001b[39m    \"\"\"\u001b[39;00m\n\u001b[1;32m--> 168\u001b[0m     dataflow \u001b[39m=\u001b[39m get_dataflow_for_execution(\u001b[39mself\u001b[39;49m\u001b[39m.\u001b[39;49m_dataflow, \u001b[39m'\u001b[39m\u001b[39mto_pandas_dataframe\u001b[39m\u001b[39m'\u001b[39m, \u001b[39m'\u001b[39m\u001b[39mTabularDataset\u001b[39m\u001b[39m'\u001b[39m)\n\u001b[0;32m    169\u001b[0m     df \u001b[39m=\u001b[39m _try_execute(\u001b[39mlambda\u001b[39;00m: dataflow\u001b[39m.\u001b[39mto_pandas_dataframe(on_error\u001b[39m=\u001b[39mon_error,\n\u001b[0;32m    170\u001b[0m                                                            out_of_range_datetime\u001b[39m=\u001b[39mout_of_range_datetime),\n\u001b[0;32m    171\u001b[0m                       \u001b[39m'\u001b[39m\u001b[39mto_pandas_dataframe\u001b[39m\u001b[39m'\u001b[39m,\n\u001b[0;32m    172\u001b[0m                       \u001b[39mNone\u001b[39;00m \u001b[39mif\u001b[39;00m \u001b[39mself\u001b[39m\u001b[39m.\u001b[39mid \u001b[39mis\u001b[39;00m \u001b[39mNone\u001b[39;00m \u001b[39melse\u001b[39;00m {\u001b[39m'\u001b[39m\u001b[39mid\u001b[39m\u001b[39m'\u001b[39m: \u001b[39mself\u001b[39m\u001b[39m.\u001b[39mid, \u001b[39m'\u001b[39m\u001b[39mname\u001b[39m\u001b[39m'\u001b[39m: \u001b[39mself\u001b[39m\u001b[39m.\u001b[39mname, \u001b[39m'\u001b[39m\u001b[39mversion\u001b[39m\u001b[39m'\u001b[39m: \u001b[39mself\u001b[39m\u001b[39m.\u001b[39mversion})\n\u001b[0;32m    173\u001b[0m     fine_grain_timestamp \u001b[39m=\u001b[39m \u001b[39mself\u001b[39m\u001b[39m.\u001b[39m_properties\u001b[39m.\u001b[39mget(_DATASET_PROP_TIMESTAMP_FINE, \u001b[39mNone\u001b[39;00m)\n",
      "File \u001b[1;32mc:\\Users\\pablo.tamayo\\Anaconda3\\envs\\myenv\\lib\\site-packages\\azureml\\data\\_loggerfactory.py:132\u001b[0m, in \u001b[0;36mtrack.<locals>.monitor.<locals>.wrapper\u001b[1;34m(*args, **kwargs)\u001b[0m\n\u001b[0;32m    130\u001b[0m \u001b[39mwith\u001b[39;00m _LoggerFactory\u001b[39m.\u001b[39mtrack_activity(logger, func\u001b[39m.\u001b[39m\u001b[39m__name__\u001b[39m, activity_type, custom_dimensions) \u001b[39mas\u001b[39;00m al:\n\u001b[0;32m    131\u001b[0m     \u001b[39mtry\u001b[39;00m:\n\u001b[1;32m--> 132\u001b[0m         \u001b[39mreturn\u001b[39;00m func(\u001b[39m*\u001b[39;49margs, \u001b[39m*\u001b[39;49m\u001b[39m*\u001b[39;49mkwargs)\n\u001b[0;32m    133\u001b[0m     \u001b[39mexcept\u001b[39;00m \u001b[39mException\u001b[39;00m \u001b[39mas\u001b[39;00m e:\n\u001b[0;32m    134\u001b[0m         \u001b[39mif\u001b[39;00m \u001b[39mhasattr\u001b[39m(al, \u001b[39m'\u001b[39m\u001b[39mactivity_info\u001b[39m\u001b[39m'\u001b[39m) \u001b[39mand\u001b[39;00m \u001b[39mhasattr\u001b[39m(e, \u001b[39m'\u001b[39m\u001b[39merror_code\u001b[39m\u001b[39m'\u001b[39m):\n",
      "File \u001b[1;32mc:\\Users\\pablo.tamayo\\Anaconda3\\envs\\myenv\\lib\\site-packages\\azureml\\data\\abstract_dataset.py:221\u001b[0m, in \u001b[0;36mAbstractDataset._dataflow\u001b[1;34m(self)\u001b[0m\n\u001b[0;32m    219\u001b[0m     \u001b[39mraise\u001b[39;00m UserErrorException(\u001b[39m'\u001b[39m\u001b[39mDataset definition is missing. Please check how the dataset is created.\u001b[39m\u001b[39m'\u001b[39m)\n\u001b[0;32m    220\u001b[0m \u001b[39mif\u001b[39;00m \u001b[39mself\u001b[39m\u001b[39m.\u001b[39m_registration \u001b[39mand\u001b[39;00m \u001b[39mself\u001b[39m\u001b[39m.\u001b[39m_registration\u001b[39m.\u001b[39mworkspace:\n\u001b[1;32m--> 221\u001b[0m     dataprep()\u001b[39m.\u001b[39mapi\u001b[39m.\u001b[39m_datastore_helper\u001b[39m.\u001b[39m_set_auth_type(\u001b[39mself\u001b[39m\u001b[39m.\u001b[39m_registration\u001b[39m.\u001b[39mworkspace)\n\u001b[0;32m    222\u001b[0m \u001b[39mif\u001b[39;00m \u001b[39mnot\u001b[39;00m \u001b[39misinstance\u001b[39m(\u001b[39mself\u001b[39m\u001b[39m.\u001b[39m_definition, dataprep()\u001b[39m.\u001b[39mDataflow):\n\u001b[0;32m    223\u001b[0m     \u001b[39mtry\u001b[39;00m:\n",
      "File \u001b[1;32mc:\\Users\\pablo.tamayo\\Anaconda3\\envs\\myenv\\lib\\site-packages\\azureml\\data\\_dataprep_helper.py:38\u001b[0m, in \u001b[0;36mdataprep\u001b[1;34m()\u001b[0m\n\u001b[0;32m     36\u001b[0m \u001b[39mdef\u001b[39;00m \u001b[39mdataprep\u001b[39m():\n\u001b[0;32m     37\u001b[0m     \u001b[39mif\u001b[39;00m \u001b[39mnot\u001b[39;00m is_dataprep_installed():\n\u001b[1;32m---> 38\u001b[0m         \u001b[39mraise\u001b[39;00m \u001b[39mImportError\u001b[39;00m(get_dataprep_missing_message())\n\u001b[0;32m     39\u001b[0m     \u001b[39mimport\u001b[39;00m \u001b[39mazureml\u001b[39;00m\u001b[39m.\u001b[39;00m\u001b[39mdataprep\u001b[39;00m \u001b[39mas\u001b[39;00m \u001b[39m_dprep\u001b[39;00m\n\u001b[0;32m     40\u001b[0m     check_min_version()\n",
      "\u001b[1;31mImportError\u001b[0m: Missing required package \"azureml-dataset-runtime\", which can be installed by running: \"c:\\Users\\pablo.tamayo\\Anaconda3\\envs\\myenv\\python.exe\" -m pip install azureml-dataset-runtime --upgrade"
     ]
    }
   ],
   "source": [
    "dataset = Dataset.get_by_name(ws, name='AirlinesDelay')\n",
    "df = dataset.to_pandas_dataframe()"
   ]
  },
  {
   "cell_type": "code",
   "execution_count": 4,
   "metadata": {},
   "outputs": [
    {
     "name": "stdout",
     "output_type": "stream",
     "text": [
      "Overwriting experiments/mlflow_eda.py\n"
     ]
    }
   ],
   "source": [
    "%%writefile experiments/mlflow_eda.py\n",
    "\n",
    "experiment_name ='exp-prueba'\n",
    "mlflow.set_experiment(experiment_name)\n",
    "\n",
    "with mlflow.start_run() as run:\n",
    "    \n",
    "    #logging dataset from azure\n",
    "    dataset = Dataset.get_by_name(ws, name='AirlinesDelay')\n",
    "    df = dataset.to_pandas_dataframe()\n",
    "    \n",
    "    #Distribution of the target column\n",
    "    class_cero, class_one = df['Class'].value_counts()\n",
    "    mlflow.log_metrics({'one':class_one, 'cero':class_cero})\n",
    "    \n",
    "    #Comparation of the mean\n",
    "    cls_one_df = df.loc[df['Class']==1]\n",
    "    mean_one = cls_one_df['Time'].mean()\n",
    "    \n",
    "    cls_cero_df = df.loc[df['Class']==0]\n",
    "    mean_cero = cls_cero_df['Time'].mean()\n",
    "    \n",
    "    mlflow.log_metrics({'mean cero':mean_cero, 'mean one':mean_one})\n",
    "\n",
    "    #plot distribution of time\n",
    "    fig = plt.figure(figsize=(6,6))\n",
    "    ax = fig.gca()    \n",
    "    sns.displot(df['Length'])\n",
    "    plt.show()\n",
    "    mlflow.log_figure(fig, \"plot.png\")\n",
    "    print(\"Plot listo!\")\n",
    "    \n",
    "    \n",
    "    #fig = plt.bar(x=['0','1'], height=[class_cero, class_one])\n",
    "    #mlflow.log_figure(fig, 'plot.png')\n",
    "    \n",
    "    "
   ]
  },
  {
   "cell_type": "code",
   "execution_count": 5,
   "metadata": {},
   "outputs": [
    {
     "data": {
      "text/html": [
       "<div>\n",
       "<style scoped>\n",
       "    .dataframe tbody tr th:only-of-type {\n",
       "        vertical-align: middle;\n",
       "    }\n",
       "\n",
       "    .dataframe tbody tr th {\n",
       "        vertical-align: top;\n",
       "    }\n",
       "\n",
       "    .dataframe thead th {\n",
       "        text-align: right;\n",
       "    }\n",
       "</style>\n",
       "<table border=\"1\" class=\"dataframe\">\n",
       "  <thead>\n",
       "    <tr style=\"text-align: right;\">\n",
       "      <th></th>\n",
       "      <th>Flight</th>\n",
       "      <th>Time</th>\n",
       "      <th>Length</th>\n",
       "      <th>Airline</th>\n",
       "      <th>AirportFrom</th>\n",
       "      <th>AirportTo</th>\n",
       "      <th>DayOfWeek</th>\n",
       "      <th>Class</th>\n",
       "    </tr>\n",
       "  </thead>\n",
       "  <tbody>\n",
       "    <tr>\n",
       "      <th>0</th>\n",
       "      <td>2313.0</td>\n",
       "      <td>1296.0</td>\n",
       "      <td>141.0</td>\n",
       "      <td>DL</td>\n",
       "      <td>ATL</td>\n",
       "      <td>HOU</td>\n",
       "      <td>1</td>\n",
       "      <td>0</td>\n",
       "    </tr>\n",
       "    <tr>\n",
       "      <th>1</th>\n",
       "      <td>6948.0</td>\n",
       "      <td>360.0</td>\n",
       "      <td>146.0</td>\n",
       "      <td>OO</td>\n",
       "      <td>COS</td>\n",
       "      <td>ORD</td>\n",
       "      <td>4</td>\n",
       "      <td>0</td>\n",
       "    </tr>\n",
       "    <tr>\n",
       "      <th>2</th>\n",
       "      <td>1247.0</td>\n",
       "      <td>1170.0</td>\n",
       "      <td>143.0</td>\n",
       "      <td>B6</td>\n",
       "      <td>BOS</td>\n",
       "      <td>CLT</td>\n",
       "      <td>3</td>\n",
       "      <td>0</td>\n",
       "    </tr>\n",
       "    <tr>\n",
       "      <th>3</th>\n",
       "      <td>31.0</td>\n",
       "      <td>1410.0</td>\n",
       "      <td>344.0</td>\n",
       "      <td>US</td>\n",
       "      <td>OGG</td>\n",
       "      <td>PHX</td>\n",
       "      <td>6</td>\n",
       "      <td>0</td>\n",
       "    </tr>\n",
       "    <tr>\n",
       "      <th>4</th>\n",
       "      <td>563.0</td>\n",
       "      <td>692.0</td>\n",
       "      <td>98.0</td>\n",
       "      <td>FL</td>\n",
       "      <td>BMI</td>\n",
       "      <td>ATL</td>\n",
       "      <td>4</td>\n",
       "      <td>0</td>\n",
       "    </tr>\n",
       "  </tbody>\n",
       "</table>\n",
       "</div>"
      ],
      "text/plain": [
       "   Flight    Time  Length Airline AirportFrom AirportTo  DayOfWeek  Class\n",
       "0  2313.0  1296.0   141.0      DL         ATL       HOU          1      0\n",
       "1  6948.0   360.0   146.0      OO         COS       ORD          4      0\n",
       "2  1247.0  1170.0   143.0      B6         BOS       CLT          3      0\n",
       "3    31.0  1410.0   344.0      US         OGG       PHX          6      0\n",
       "4   563.0   692.0    98.0      FL         BMI       ATL          4      0"
      ]
     },
     "execution_count": 5,
     "metadata": {},
     "output_type": "execute_result"
    }
   ],
   "source": [
    "df.head()"
   ]
  },
  {
   "cell_type": "code",
   "execution_count": 7,
   "metadata": {},
   "outputs": [
    {
     "data": {
      "text/plain": [
       "<seaborn.axisgrid.FacetGrid at 0x1f7b62fb7c0>"
      ]
     },
     "execution_count": 7,
     "metadata": {},
     "output_type": "execute_result"
    },
    {
     "data": {
      "image/png": "[encoded data removed]",
      "text/plain": [
       "<Figure size 500x500 with 1 Axes>"
      ]
     },
     "metadata": {},
     "output_type": "display_data"
    }
   ],
   "source": [
    "sns.displot(df['Length'])"
   ]
  }
 ],
 "metadata": {
  "kernelspec": {
   "display_name": "Python 3 (ipykernel)",
   "language": "python",
   "name": "python3"
  },
  "language_info": {
   "codemirror_mode": {
    "name": "ipython",
    "version": 3
   },
   "file_extension": ".py",
   "mimetype": "text/x-python",
   "name": "python",
   "nbconvert_exporter": "python",
   "pygments_lexer": "ipython3",
   "version": "3.8.16"
  }
 },
 "nbformat": 4,
 "nbformat_minor": 2
}
