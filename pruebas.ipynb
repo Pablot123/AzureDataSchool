{
 "cells": [
  {
   "cell_type": "code",
   "execution_count": 2,
   "metadata": {},
   "outputs": [],
   "source": [
    "#Importing libraries\n",
    "import azureml.core\n",
    "from azureml.core import Workspace, Dataset\n",
    "from azureml.core import Experiment\n",
    "from azureml.widgets import RunDetails\n",
    "from azureml.core import Run\n",
    "from azureml.core import Experiment, ScriptRunConfig, Environment\n",
    "from azureml.core.runconfig import DockerConfiguration\n",
    "from azureml.widgets import RunDetails\n",
    "import mlflow\n",
    "\n",
    "import matplotlib.pyplot as plt\n",
    "import seaborn as sns\n",
    "import pandas as pd"
   ]
  },
  {
   "cell_type": "code",
   "execution_count": 26,
   "metadata": {},
   "outputs": [],
   "source": [
    "#Creating the workspace\n",
    "ws = Workspace.from_config()\n",
    "\n",
    "#Linkg workspace with mlflow\n",
    "mlflow.set_tracking_uri(ws.get_mlflow_tracking_uri())\n"
   ]
  },
  {
   "cell_type": "code",
   "execution_count": 8,
   "metadata": {},
   "outputs": [],
   "source": [
    "dataset = Dataset.get_by_name(ws, name='AirlinesDelay')\n",
    "#df = dataset.to_pandas_dataframe()"
   ]
  },
  {
   "cell_type": "code",
   "execution_count": 43,
   "metadata": {},
   "outputs": [
    {
     "data": {
      "image/png": "[encoded data removed]",
      "text/plain": [
       "<Figure size 600x600 with 1 Axes>"
      ]
     },
     "metadata": {},
     "output_type": "display_data"
    },
    {
     "name": "stdout",
     "output_type": "stream",
     "text": [
      "Plot listo!\n"
     ]
    }
   ],
   "source": [
    "#%%writefile experiments/mlflow_eda.py\n",
    "from funcs.myfuncs import cln_data\n",
    "experiment_name ='exp-prueba'\n",
    "mlflow.set_experiment(experiment_name)\n",
    "\n",
    "with mlflow.start_run() as run:\n",
    "    \n",
    "    #loading data \n",
    "    #dataset = Dataset.get_by_name(ws, name='AirlinesDelay')\n",
    "    df = pd.read_csv(\"../airlines_delay/airlines_delay.csv\", sep = \",\")\n",
    "    \n",
    "    #Distribution of the target column\n",
    "    class_cero, class_one = df['Class'].value_counts()\n",
    "    mlflow.log_metrics({'one':class_one, 'cero':class_cero})\n",
    "    \n",
    "    #Comparation of the mean\n",
    "    cls_one_df = df.loc[df['Class']==1]\n",
    "    mean_one = cls_one_df['Time'].mean()\n",
    "    \n",
    "    cls_cero_df = df.loc[df['Class']==0]\n",
    "    mean_cero = cls_cero_df['Time'].mean()\n",
    "    \n",
    "    mlflow.log_metrics({'mean cero':mean_cero, 'mean one':mean_one})\n",
    "\n",
    "    #plot distribution of time\n",
    "    fig = plt.figure(figsize=(6,6))\n",
    "    ax = fig.gca()    \n",
    "    plt.hist(df['Length'])\n",
    "    plt.show()\n",
    "    mlflow.log_figure(fig, \"plot.png\")\n",
    "    print(\"Plot listo!\")\n",
    "\n",
    "    cl_df = cln_data(df)\n",
    "    cl_df.to_csv('./clean_data.csv')\n",
    "    mlflow.log_artifact('./clean_data.csv')\n",
    "    \n",
    "    \n",
    "    #fig = plt.bar(x=['0','1'], height=[class_cero, class_one])\n",
    "    #mlflow.log_figure(fig, 'plot.png')\n",
    "    \n",
    "    "
   ]
  },
  {
   "cell_type": "code",
   "execution_count": 4,
   "metadata": {},
   "outputs": [
    {
     "data": {
      "text/html": [
       "<div>\n",
       "<style scoped>\n",
       "    .dataframe tbody tr th:only-of-type {\n",
       "        vertical-align: middle;\n",
       "    }\n",
       "\n",
       "    .dataframe tbody tr th {\n",
       "        vertical-align: top;\n",
       "    }\n",
       "\n",
       "    .dataframe thead th {\n",
       "        text-align: right;\n",
       "    }\n",
       "</style>\n",
       "<table border=\"1\" class=\"dataframe\">\n",
       "  <thead>\n",
       "    <tr style=\"text-align: right;\">\n",
       "      <th></th>\n",
       "      <th>Flight</th>\n",
       "      <th>Time</th>\n",
       "      <th>Length</th>\n",
       "      <th>Airline</th>\n",
       "      <th>AirportFrom</th>\n",
       "      <th>AirportTo</th>\n",
       "      <th>DayOfWeek</th>\n",
       "      <th>Class</th>\n",
       "    </tr>\n",
       "  </thead>\n",
       "  <tbody>\n",
       "    <tr>\n",
       "      <th>0</th>\n",
       "      <td>2313.0</td>\n",
       "      <td>1296.0</td>\n",
       "      <td>141.0</td>\n",
       "      <td>DL</td>\n",
       "      <td>ATL</td>\n",
       "      <td>HOU</td>\n",
       "      <td>1</td>\n",
       "      <td>0</td>\n",
       "    </tr>\n",
       "    <tr>\n",
       "      <th>1</th>\n",
       "      <td>6948.0</td>\n",
       "      <td>360.0</td>\n",
       "      <td>146.0</td>\n",
       "      <td>OO</td>\n",
       "      <td>COS</td>\n",
       "      <td>ORD</td>\n",
       "      <td>4</td>\n",
       "      <td>0</td>\n",
       "    </tr>\n",
       "    <tr>\n",
       "      <th>2</th>\n",
       "      <td>1247.0</td>\n",
       "      <td>1170.0</td>\n",
       "      <td>143.0</td>\n",
       "      <td>B6</td>\n",
       "      <td>BOS</td>\n",
       "      <td>CLT</td>\n",
       "      <td>3</td>\n",
       "      <td>0</td>\n",
       "    </tr>\n",
       "    <tr>\n",
       "      <th>3</th>\n",
       "      <td>31.0</td>\n",
       "      <td>1410.0</td>\n",
       "      <td>344.0</td>\n",
       "      <td>US</td>\n",
       "      <td>OGG</td>\n",
       "      <td>PHX</td>\n",
       "      <td>6</td>\n",
       "      <td>0</td>\n",
       "    </tr>\n",
       "    <tr>\n",
       "      <th>4</th>\n",
       "      <td>563.0</td>\n",
       "      <td>692.0</td>\n",
       "      <td>98.0</td>\n",
       "      <td>FL</td>\n",
       "      <td>BMI</td>\n",
       "      <td>ATL</td>\n",
       "      <td>4</td>\n",
       "      <td>0</td>\n",
       "    </tr>\n",
       "  </tbody>\n",
       "</table>\n",
       "</div>"
      ],
      "text/plain": [
       "   Flight    Time  Length Airline AirportFrom AirportTo  DayOfWeek  Class\n",
       "0  2313.0  1296.0   141.0      DL         ATL       HOU          1      0\n",
       "1  6948.0   360.0   146.0      OO         COS       ORD          4      0\n",
       "2  1247.0  1170.0   143.0      B6         BOS       CLT          3      0\n",
       "3    31.0  1410.0   344.0      US         OGG       PHX          6      0\n",
       "4   563.0   692.0    98.0      FL         BMI       ATL          4      0"
      ]
     },
     "execution_count": 4,
     "metadata": {},
     "output_type": "execute_result"
    }
   ],
   "source": [
    "df = pd.read_csv(\"../airlines_delay/airlines_delay.csv\", sep = \",\")\n",
    "\n",
    "df.head()"
   ]
  },
  {
   "cell_type": "code",
   "execution_count": 6,
   "metadata": {},
   "outputs": [
    {
     "name": "stdout",
     "output_type": "stream",
     "text": [
      "{'WN': 94097, 'DL': 60940, 'OO': 50254, 'AA': 45656, 'MQ': 36604, 'US': 34500, 'XE': 31126, 'EV': 27983, 'UA': 27619, 'CO': 21118, 'FL': 20827, '9E': 20686, 'B6': 18112, 'YV': 13725, 'OH': 12630, 'AS': 11471, 'F9': 6456, 'HA': 5578}\n",
      "293\n",
      "ATL    34449\n",
      "ORD    24822\n",
      "DFW    22153\n",
      "DEN    19843\n",
      "LAX    16657\n",
      "Name: AirportFrom, dtype: int64\n",
      "ABR     2\n",
      "ADK     9\n",
      "GUM    10\n",
      "SJT    15\n",
      "MMH    16\n",
      "Name: AirportFrom, dtype: int64\n",
      "293\n",
      "ATL    34440\n",
      "ORD    24871\n",
      "DFW    22153\n",
      "DEN    19848\n",
      "LAX    16656\n",
      "Name: AirportTo, dtype: int64\n",
      "ABR     2\n",
      "ADK     9\n",
      "GUM    10\n",
      "SJT    15\n",
      "MMH    16\n",
      "Name: AirportTo, dtype: int64\n"
     ]
    },
    {
     "data": {
      "text/html": [
       "<div>\n",
       "<style scoped>\n",
       "    .dataframe tbody tr th:only-of-type {\n",
       "        vertical-align: middle;\n",
       "    }\n",
       "\n",
       "    .dataframe tbody tr th {\n",
       "        vertical-align: top;\n",
       "    }\n",
       "\n",
       "    .dataframe thead th {\n",
       "        text-align: right;\n",
       "    }\n",
       "</style>\n",
       "<table border=\"1\" class=\"dataframe\">\n",
       "  <thead>\n",
       "    <tr style=\"text-align: right;\">\n",
       "      <th></th>\n",
       "      <th>Time</th>\n",
       "      <th>Length</th>\n",
       "      <th>Class</th>\n",
       "    </tr>\n",
       "  </thead>\n",
       "  <tbody>\n",
       "    <tr>\n",
       "      <th>Time</th>\n",
       "      <td>1.000000</td>\n",
       "      <td>-0.020610</td>\n",
       "      <td>0.150457</td>\n",
       "    </tr>\n",
       "    <tr>\n",
       "      <th>Length</th>\n",
       "      <td>-0.020610</td>\n",
       "      <td>1.000000</td>\n",
       "      <td>0.040488</td>\n",
       "    </tr>\n",
       "    <tr>\n",
       "      <th>Class</th>\n",
       "      <td>0.150457</td>\n",
       "      <td>0.040488</td>\n",
       "      <td>1.000000</td>\n",
       "    </tr>\n",
       "  </tbody>\n",
       "</table>\n",
       "</div>"
      ],
      "text/plain": [
       "            Time    Length     Class\n",
       "Time    1.000000 -0.020610  0.150457\n",
       "Length -0.020610  1.000000  0.040488\n",
       "Class   0.150457  0.040488  1.000000"
      ]
     },
     "execution_count": 6,
     "metadata": {},
     "output_type": "execute_result"
    }
   ],
   "source": [
    "#How many airlines are\n",
    "len(df['Airline'].unique())\n",
    "\n",
    "#flights per aeroline\n",
    "count_airline_flights = df['Airline'].value_counts().to_dict()\n",
    "print(count_airline_flights)\n",
    "#plt.bar(x=count_airline.keys,height=count_airline.values())\n",
    "\n",
    "#airports\n",
    "print(len(df['AirportFrom'].unique()))\n",
    "#5 aeropuestos donde mas vuelon salen\n",
    "print(df['AirportFrom'].value_counts().sort_values(ascending=False).head(5))\n",
    "print(df['AirportFrom'].value_counts().sort_values(ascending=True).head(5))\n",
    "#print(df['AirportFrom'].sort_values().tail(5))\n",
    "\n",
    "print(len(df['AirportTo'].unique()))\n",
    "\n",
    "print(df['AirportTo'].value_counts().sort_values(ascending=False).head(5))\n",
    "print(df['AirportTo'].value_counts().sort_values(ascending=True).head(5))\n",
    "\n",
    "#DaysWeek\n",
    "dict_day_of_week= {1:'Monday', 2:'Tuesday', 3:'Wednesday', 4:'Thursday', 5:'Friday', 6:'Saturday', 7: 'Sunday'}\n",
    "\n",
    "df_day_of_week = df.replace({\"DayOfWeek\": dict_day_of_week},inplace=False)\n",
    "\n",
    "df_day_of_week['DayOfWeek'].value_counts().to_dict()\n",
    "\n",
    "#Correlación entre variables\n",
    "df[['Time', 'Length', 'Class']].corr()"
   ]
  },
  {
   "cell_type": "code",
   "execution_count": 11,
   "metadata": {},
   "outputs": [
    {
     "data": {
      "text/plain": [
       "{'Time': {0: 765.2351379723052, 1: 849.4053083275064},\n",
       " 'Length': {0: 129.65776048248517, 1: 135.3696974994173}}"
      ]
     },
     "execution_count": 11,
     "metadata": {},
     "output_type": "execute_result"
    }
   ],
   "source": [
    "#cls_one_df = df.loc[df['Class']==1]\n",
    "#mean_one = cls_one_df['Time'].mean()\n",
    "    \n",
    "#cls_cero_df = df.loc[df['Class']==0]\n",
    "#mean_cero = cls_cero_df['Time'].mean()\n",
    "\n",
    "df[['Time','Length', 'Class']].groupby('Class').mean().to_dict()"
   ]
  },
  {
   "cell_type": "code",
   "execution_count": 14,
   "metadata": {},
   "outputs": [
    {
     "name": "stderr",
     "output_type": "stream",
     "text": [
      "No Python version provided, defaulting to \"3.8.13\"\n"
     ]
    }
   ],
   "source": [
    "# Ambiente para el experimento\n",
    "env = Environment.from_conda_specification(\"env_exploratorio\", \"./env/environment.yml\")\n",
    "\n",
    "script_mlflow = ScriptRunConfig(source_directory='./experiments/',\n",
    "                                script='mlflow_eda.py',\n",
    "                                environment=env,\n",
    "                                docker_runtime_config=DockerConfiguration(use_docker=True)) \n",
    "\n",
    "# submit the experiment\n",
    "experiment = Experiment(workspace=ws, name='exp-prueba')\n",
    "\n",
    "run = experiment.submit(config=script_mlflow)\n",
    "run.wait_for_completion()\n"
   ]
  },
  {
   "cell_type": "code",
   "execution_count": 5,
   "metadata": {},
   "outputs": [],
   "source": [
    "mlflow.end_run()"
   ]
  },
  {
   "attachments": {},
   "cell_type": "markdown",
   "metadata": {},
   "source": [
    "## Preprocessing"
   ]
  },
  {
   "cell_type": "code",
   "execution_count": 24,
   "metadata": {},
   "outputs": [
    {
     "name": "stderr",
     "output_type": "stream",
     "text": [
      "c:\\Users\\pablo.tamayo\\Anaconda3\\envs\\myenv\\lib\\site-packages\\sklearn\\preprocessing\\_encoders.py:868: FutureWarning: `sparse` was renamed to `sparse_output` in version 1.2 and will be removed in 1.4. `sparse_output` is ignored unless you leave `sparse` to its default value.\n",
      "  warnings.warn(\n"
     ]
    },
    {
     "ename": "AttributeError",
     "evalue": "'ColumnTransformer' object has no attribute 'get_features_name_out_'",
     "output_type": "error",
     "traceback": [
      "\u001b[1;31m---------------------------------------------------------------------------\u001b[0m",
      "\u001b[1;31mAttributeError\u001b[0m                            Traceback (most recent call last)",
      "Cell \u001b[1;32mIn[24], line 47\u001b[0m\n\u001b[0;32m     42\u001b[0m     \u001b[39mreturn\u001b[39;00m \u001b[39m'\u001b[39m\u001b[39mpreprocessed_data\u001b[39m\u001b[39m'\u001b[39m\n\u001b[0;32m     46\u001b[0m df_new \u001b[39m=\u001b[39m clean_data(df)\n\u001b[1;32m---> 47\u001b[0m processed_df \u001b[39m=\u001b[39m preprocess_data(df_new)\n\u001b[0;32m     49\u001b[0m \u001b[39m#df_new.head()\u001b[39;00m\n",
      "Cell \u001b[1;32mIn[24], line 41\u001b[0m, in \u001b[0;36mpreprocess_data\u001b[1;34m(data)\u001b[0m\n\u001b[0;32m     37\u001b[0m y \u001b[39m=\u001b[39m data[\u001b[39m'\u001b[39m\u001b[39mClass\u001b[39m\u001b[39m'\u001b[39m]\n\u001b[0;32m     39\u001b[0m preprocessed_data \u001b[39m=\u001b[39m preprocessor\u001b[39m.\u001b[39mfit_transform(df_X)\n\u001b[1;32m---> 41\u001b[0m \u001b[39mprint\u001b[39m(preprocessor\u001b[39m.\u001b[39;49mget_features_name_out_)\n\u001b[0;32m     42\u001b[0m \u001b[39mreturn\u001b[39;00m \u001b[39m'\u001b[39m\u001b[39mpreprocessed_data\u001b[39m\u001b[39m'\u001b[39m\n",
      "\u001b[1;31mAttributeError\u001b[0m: 'ColumnTransformer' object has no attribute 'get_features_name_out_'"
     ]
    }
   ],
   "source": [
    "from sklearn.pipeline import Pipeline\n",
    "from sklearn.impute import SimpleImputer\n",
    "from sklearn.preprocessing import OneHotEncoder, StandardScaler\n",
    "from sklearn.compose import ColumnTransformer\n",
    "\n",
    "df = pd.read_csv(\"../airlines_delay/airlines_delay.csv\", sep = \",\")\n",
    "\n",
    "def clean_data(data:pd.DataFrame) -> pd.DataFrame:\n",
    "    '''\n",
    "    Delete the Fligh column\n",
    "    input: dataset\n",
    "    output: pandas dataframe withiout Flight\n",
    "    '''\n",
    "    clean_df = data.drop('Flight', axis=1, inplace=False)\n",
    "    return clean_df\n",
    "\n",
    "def preprocess_data(data:pd.DataFrame) -> pd.DataFrame:\n",
    "    numeric_columns = ['Length','Time']\n",
    "    category_columns = ['Airline', 'AirportFrom', 'AirportTo', 'DayOfWeek']\n",
    "\n",
    "    numeric_transformer = Pipeline(steps=[('imputer', SimpleImputer(strategy='median')),\n",
    "                                            ('scaler', StandardScaler())])\n",
    "\n",
    "    categorical_transformer = Pipeline(steps=[('imputer', SimpleImputer(strategy='most_frequent')),\n",
    "                                            ('onehot', OneHotEncoder(handle_unknown='ignore', sparse=False, drop='first'))])\n",
    "\n",
    "    preprocessor = ColumnTransformer(\n",
    "                        transformers=[\n",
    "                            ('numeric', numeric_transformer, numeric_columns),\n",
    "                            ('cat', categorical_transformer, category_columns)\n",
    "                        ],\n",
    "                        remainder='passthrough'\n",
    "                    )\n",
    "    \n",
    "    #split the dependent(y) and independent(df_x) features \n",
    "    df_X = data.drop('Class', axis=1, inplace=False)\n",
    "    y = data['Class']\n",
    "\n",
    "    preprocessed_data = preprocessor.fit_transform(df_X)\n",
    "\n",
    "    print(preprocessor.get_features_name_out_)\n",
    "    return 'preprocessed_data'\n",
    "\n",
    "\n",
    "\n",
    "df_new = clean_data(df)\n",
    "processed_df = preprocess_data(df_new)\n",
    "\n",
    "#df_new.head()"
   ]
  },
  {
   "cell_type": "code",
   "execution_count": 8,
   "metadata": {},
   "outputs": [],
   "source": [
    "!conda env export > ./env/environment.yml"
   ]
  }
 ],
 "metadata": {
  "kernelspec": {
   "display_name": "Python 3 (ipykernel)",
   "language": "python",
   "name": "python3"
  },
  "language_info": {
   "codemirror_mode": {
    "name": "ipython",
    "version": 3
   },
   "file_extension": ".py",
   "mimetype": "text/x-python",
   "name": "python",
   "nbconvert_exporter": "python",
   "pygments_lexer": "ipython3",
   "version": "3.8.16"
  }
 },
 "nbformat": 4,
 "nbformat_minor": 2
}
