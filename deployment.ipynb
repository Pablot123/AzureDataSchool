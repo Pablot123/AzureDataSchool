{
 "cells": [
  {
   "cell_type": "code",
   "execution_count": 18,
   "metadata": {},
   "outputs": [],
   "source": [
    "# azureml-core of version 1.0.72 or higher is required\n",
    "# azureml-dataprep[pandas] of version 1.1.34 or higher is required\n",
    "from azureml.core import Workspace, Dataset\n",
    "\n",
    "subscription_id = '20d4fdf3-6a4b-4f0b-a842-bd7392136332'\n",
    "resource_group = 'cienciadatos'\n",
    "workspace_name = 'azureml'\n",
    "\n",
    "workspace = Workspace(subscription_id, resource_group, workspace_name)\n",
    "\n",
    "dataset = Dataset.get_by_name(workspace, name='AirlinesDelay')\n",
    "df = dataset.to_pandas_dataframe()"
   ]
  },
  {
   "cell_type": "code",
   "execution_count": 19,
   "metadata": {},
   "outputs": [],
   "source": [
    "import pandas as pd\n",
    "import random\n",
    "def data_generator(context:pd.DataFrame, num_samples:int):\n",
    "\n",
    "    generated_data = {\n",
    "        'Flight' : [random.choice(context['Flight']) for _ in range(num_samples)],\n",
    "        'Time': [float(random.randint(min(df['Time']), max(df['Time']))) for _ in range(num_samples)],\n",
    "        'Length': [float(random.randint(min(df['Length']), max(df['Length']))) for _ in range(num_samples)],\n",
    "        'Airline': [random.choice(context['Airline']) for _ in range(num_samples)],\n",
    "        'AirportFrom': [random.choice(context['AirportFrom']) for _ in range(num_samples)],\n",
    "        'AirportTo': [random.choice(context['AirportTo']) for _ in range(num_samples)],\n",
    "        'DayOfWeek': [random.choice(context['DayOfWeek']) for _ in range(num_samples)]\n",
    "    }\n",
    "    \n",
    "    return pd.DataFrame(data=generated_data)\n"
   ]
  },
  {
   "cell_type": "code",
   "execution_count": 23,
   "metadata": {},
   "outputs": [],
   "source": [
    "prueba = data_generator(context=df, num_samples=10)"
   ]
  },
  {
   "attachments": {},
   "cell_type": "markdown",
   "metadata": {},
   "source": [
    "## upload data"
   ]
  },
  {
   "cell_type": "code",
   "execution_count": 20,
   "metadata": {},
   "outputs": [
    {
     "name": "stdout",
     "output_type": "stream",
     "text": [
      "Validating arguments.\n",
      "Arguments validated.\n",
      "Successfully obtained datastore reference and path.\n",
      "Uploading file to managed-dataset/1041c6ea-2a7f-4ce0-8c6d-1057acaa3b91/\n",
      "Successfully uploaded file to datastore.\n",
      "Creating and registering a new dataset.\n",
      "Successfully created and registered a new dataset.\n"
     ]
    }
   ],
   "source": [
    "from azureml.core import Workspace\n",
    "\n",
    "ws = Workspace.from_config()\n",
    "\n",
    "\n",
    "generated_data = data_generator(context=df, num_samples=1000)\n",
    "datastore = ws.get_default_datastore()\n",
    "\n",
    "train_data_reg = Dataset.Tabular.register_pandas_dataframe(generated_data,\n",
    "                                                    target=datastore,\n",
    "                                                    name='data_to_predict')"
   ]
  }
 ],
 "metadata": {
  "kernelspec": {
   "display_name": "env",
   "language": "python",
   "name": "python3"
  },
  "language_info": {
   "codemirror_mode": {
    "name": "ipython",
    "version": 3
   },
   "file_extension": ".py",
   "mimetype": "text/x-python",
   "name": "python",
   "nbconvert_exporter": "python",
   "pygments_lexer": "ipython3",
   "version": "3.9.16"
  },
  "orig_nbformat": 4
 },
 "nbformat": 4,
 "nbformat_minor": 2
}
